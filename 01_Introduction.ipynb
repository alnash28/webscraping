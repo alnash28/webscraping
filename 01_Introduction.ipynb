{
 "cells": [
  {
   "cell_type": "markdown",
   "metadata": {},
   "source": [
    "# Intro to Web Scraping"
   ]
  },
  {
   "cell_type": "markdown",
   "metadata": {},
   "source": [
    "## Dessert First, A Taste of Things To Come\n",
    "\n",
    "You know what the words \"web\" and \"scraping\" mean, but perhaps you don't know what it means to put them together. We'll take a quick look at a page with [a list of quotes](http://quotes.toscrape.com/). \n",
    "\n",
    "![quotes](images/quotes.png)\n",
    "\n",
    "Suppose we want to be able to extract the text of the quotes on the page so we could start our own inspirational story!\n",
    "\n",
    "We're going to need to install two packages, `requests`, and `BeautifulSoup`. You can install them by typing:\n",
    "\n",
    "    pip install requests beautifulsoup4\n",
    "    \n",
    "We'll go into more detail about the packages later, but with these packages installed, the code below is a simple script that extracts the quotes from the first page of the site."
   ]
  },
  {
   "cell_type": "code",
   "execution_count": 1,
   "metadata": {},
   "outputs": [
    {
     "data": {
      "text/plain": [
       "['The world as we have created it is a process of our thinking. It cannot be changed without changing our thinking.',\n",
       " 'It is our choices, Harry, that show what we truly are, far more than our abilities.',\n",
       " 'There are only two ways to live your life. One is as though nothing is a miracle. The other is as though everything is a miracle.',\n",
       " 'The person, be it gentleman or lady, who has not pleasure in a good novel, must be intolerably stupid.',\n",
       " \"Imperfection is beauty, madness is genius and it's better to be absolutely ridiculous than absolutely boring.\",\n",
       " 'Try not to become a man of success. Rather become a man of value.',\n",
       " 'It is better to be hated for what you are than to be loved for what you are not.',\n",
       " \"I have not failed. I've just found 10,000 ways that won't work.\",\n",
       " \"A woman is like a tea bag; you never know how strong it is until it's in hot water.\",\n",
       " 'A day without sunshine is like, you know, night.']"
      ]
     },
     "execution_count": 1,
     "metadata": {},
     "output_type": "execute_result"
    }
   ],
   "source": [
    "import requests\n",
    "from bs4 import BeautifulSoup\n",
    "\n",
    "# Download the HTML that makes up the page\n",
    "page = requests.get('http://quotes.toscrape.com/')\n",
    "\n",
    "# Let BeautifulSoup parse the content\n",
    "soup = BeautifulSoup(page.content, 'html.parser')\n",
    "\n",
    "# Find all the quotes. Returns span element <span class=\"text\" itemprop=\"text\">...</span>\n",
    "quotes = soup.find_all('span', class_='text')\n",
    "\n",
    "# Use the .text attribute to get just the text inside the elements. Slicing `[1:-1]` removes the quotation marks.\n",
    "quotes = [quote.text[1:-1] for quote in quotes]\n",
    "\n",
    "# Look at the output\n",
    "quotes"
   ]
  },
  {
   "cell_type": "markdown",
   "metadata": {},
   "source": [
    "As you can see, the quotes match what we see on the site."
   ]
  },
  {
   "cell_type": "markdown",
   "metadata": {},
   "source": [
    "## What is Web Scraping?\n",
    "\n",
    "Web scraping is a method in which you can scrape data from any page on the internet. The process usually consists of three parts:\n",
    "\n",
    "1. Download the page content.\n",
    "2. Extract the data you need.\n",
    "3. Store the data somewhere.\n",
    "\n",
    "The process can be done manually by copying text from a website, pasting it into a document, and saving it on your computer. Technically, that is web scraping. But it's not the most efficient technique. If you are a company, you could hire an intern to do the work for you, but that can also get expensive. And what if \n",
    "\n",
    "With web scraping, you could tell your computer how to do the work for you. Then all you need to do is run the script. If new data becomes available, all you need to do is re-run the script and store the new data! "
   ]
  },
  {
   "cell_type": "markdown",
   "metadata": {},
   "source": [
    "## What is Web Scraping Used For?\n",
    "\n",
    "Web scraping is good for whenever you want to get data from a web site, but there is no pre-packaged way of getting it. Whlie large sites may offer a way for you to access their data programatically, not all sites will do so. Here are a few sample use cases for web scraping.\n",
    "\n",
    "### Corporate Level Web Scraping\n",
    "\n",
    "**Product Pricing:** Travel sites like to claim that they will have the lowest rate around. One way they they do this is pulling data from providers (airlines and hotels themselves) and competitors. \n",
    "\n",
    "**SEO Analysis:** Some sites might want to see how they're performing on different search engines. By looking at different searches, they can evaluate what other sites offer that they may use to boost their rankings.\n",
    "\n",
    "**Social Marketing:** If you notice your competitors have a large number of followers on instagram, twitter, LinkedIn, etc., you could scrape their pages to identify all their users. You could then identify individuals to start following and interact with to grow your brand. \n",
    "\n",
    "### Personal Level Web Scraping\n",
    "\n",
    "**Fitness Data:** While some brands like Fitbit might provide [thier own API](https://dev.fitbit.com/build/reference/web-api/), other brands such as [Garmin's API](https://developer.garmin.com/health-api/overview/) are only accesable for \"approved developers.\" \n",
    "\n",
    "**Batch Downloads:** Suppose you need to download a bunch of images or documents from the web. It could be very time consuming to download the files one by one. However, with web scaping, you can hone your skills and you only need to figure out how to download the first few documents. The rest would come automatically!"
   ]
  },
  {
   "cell_type": "markdown",
   "metadata": {},
   "source": [
    "## Is Web Scraping Legal?\n",
    "\n",
    "Generally, web scraping is legal. If you can access content with your eyes, you should be able to access it with a script. While accessing the data (via scraping or an API) is legal, you have to be careful with *what you do* with the data. If you are downloading copyrighted material and sharing it, that is clearly illegal, though the scraping part isn't the part that will land you in legal trouble. Even if there is nothing illegal, scraping other websites could still do some harm. One example is a startup called [Resulty was scraping QVC's website](https://www.forbes.com/sites/ericgoldman/2015/03/24/qvc-cant-stop-web-scraping/#16f010903ca3) for product data. The increased traffic load overwhelmed QVC's servers and caused some outages. \n",
    "\n",
    "One case where scraping is illegal, at least in the United States, is when it is used to circumvent security measures meant to protect event ticket purchasing limits. Theoretically, a malicious programmer could automatically buy out a popular event and sell tickets at a higher rate on the after market. The [Better Online Ticket Sales Act](https://www.congress.gov/bill/114th-congress/senate-bill/3183) or BOTS Act was signed into law in 2016.\n",
    "\n",
    "**Read the Fine Print**\n",
    "\n",
    "Before you embark on a web scraping journey, you should do a search for the terms and conditions of your the sites you plan to scrape. If the site prohibits scraping their site, it's probably best to avoid doing so. For example, [42Race](https://web.42race.com) has a statement saying \"You must not cause or launch any programs or scripts for scraping, indexing, surveying, or otherwise data mining any portion of the Platform;\" in their [terms and conditions](https://web.42race.com/terms).\n",
    "\n",
    "**Robots OBEY!**\n",
    "\n",
    "<img src=\"images/lenin-estrada-OI1ToozsKBw-unsplash.jpg\" style=\"width:300px; float:right; padding: 0 0 15px 15px;\"/>\n",
    "\n",
    "Websites will tell you where you are permitted and prohibited to scrape. At the root of each website, you can find a [`/robots.txt`](https://www.robotstxt.org/) file. This file can't actually stop bots and scrapers from processing areas of their site, but corporate bots like [Google's fleet of robots](https://support.google.com/webmasters/answer/1061943?hl=en) are inclined to behave for obvious reasons. \n",
    "\n",
    "To block all bots, a website can specify thier robots.txt file to say:\n",
    "\n",
    "    User-agent: *\n",
    "    Disallow: /\n",
    "    \n",
    "This will block all (well behaived) bots from scraping the site. But this could work against them since not even Google will index their page. If they want to be found via Google search, they might opt for the following specification:\n",
    "\n",
    "    User-agent: Google\n",
    "    Disallow:\n",
    "\n",
    "    User-agent: *\n",
    "    Disallow: /\n",
    "\n",
    "Some examples are [`garmin.com/robots.txt`](https://www.garmin.com/robots.txt) and [`fitbit.com/robots.txt`](https://www.fitbit.com/robots.txt). Garmin might not have an API that most people will be able to use, but their `robots.txt` file makes it pretty clear that they aren't prohibiting bots from scraping the site.\n",
    "\n",
    "    # Allow all agents to get all stuff\n",
    "    User-agent:  *\n",
    "    Disallow:\n",
    "\n",
    "Google has a particularly long [robots.txt file](https://www.google.com/robots.txt). Intersetingly, the first few lines are:\n",
    "\n",
    "    User-agent: *\n",
    "    Disallow: /search\n",
    "    Allow: /search/about\n",
    "    Allow: /search/static\n",
    "    Allow: /search/howsearchworks\n",
    "    \n",
    "If you were to search for PyRVA on google, the url would be `https://www.google.com/search?q=pyrva`. The robots.txt file tell you that you are not allowed to scrape those search results. But you can scrape [`/search/about/`](https://www.google.com/search/about/) and [`/search/howsearchworks/`](https://www.google.com/search/howsearchworks/). `/search/static` seems to return a 404, so you probably don't want to scrape that anyway."
   ]
  },
  {
   "cell_type": "markdown",
   "metadata": {},
   "source": [
    "## When Should You Scrape The Web?\n",
    "\n",
    "***You wouldn't download a movie just to listen to a song.***\n",
    "\n",
    "Before embarking on any non-trivial data scraping adventure, see if the data you want is already available. If the data already exists, you can save yourself a lot of time and effort. For example, I wanted to run some analysis on [StackOverflow](https://stackoverflow.com/). I figured that it would be easy enough to scrape a few pages to run an analysis. Before I started, I managed to find out that they perform [quarterly data dumps](https://archive.org/details/stackexchange). Furthermore, they even automatically load the data into a [Kaggle dataset](https://www.kaggle.com/stackoverflow/stackoverflow) for easy analysis. With this information in hand, it seemed pretty pointless to try and scrape large sections of the site to get the data I was after. Furthermore, it made me ponder the ethics of making thousands of requests against thier site when they give the data so freely. \n",
    "\n",
    "**Find Datasets**\n",
    "\n",
    "As was the case with StackOverflow, someone may have already done the heavy lifting for you. There is no point in recreating a system that is already available to you. Search around places like [Kaggle](https://www.kaggle.com/datasets) and [Google Dataset Search](https://datasetsearch.research.google.com/). A regular Google search can also be your friend.\n",
    "\n",
    "**Use APIs**\n",
    "\n",
    "See if the site you're interested in provides an API. Some APIs are more accesible than others. If you can get access to the API, the data will be a lot easier to collect. Generally you will just get a json or XML document with all the information you need and none of the useless presentational HTML. The more streamlined the content, the faster the response time, the faster you can scrape.\n",
    "\n",
    "If you can't find what you're looking for freely available, then start buidling your bots!"
   ]
  }
 ],
 "metadata": {
  "kernelspec": {
   "display_name": "Python 3",
   "language": "python",
   "name": "python3"
  },
  "language_info": {
   "codemirror_mode": {
    "name": "ipython",
    "version": 3
   },
   "file_extension": ".py",
   "mimetype": "text/x-python",
   "name": "python",
   "nbconvert_exporter": "python",
   "pygments_lexer": "ipython3",
   "version": "3.7.5"
  }
 },
 "nbformat": 4,
 "nbformat_minor": 4
}
