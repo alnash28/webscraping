{
 "cells": [
  {
   "cell_type": "markdown",
   "metadata": {},
   "source": [
    "# Intro to Web Scraping"
   ]
  },
  {
   "cell_type": "markdown",
   "metadata": {},
   "source": [
    "## Dessert First, A Taste of Things To Come\n",
    "\n",
    "You know what the words \"web\" and \"scraping\" mean, but perhaps you don't know what it means to put them together. We'll take a quick look at a page with [a list of quotes](http://quotes.toscrape.com/). \n",
    "\n",
    "![quotes](images/quotes.png)\n",
    "\n",
    "Suppose we want to be able to extract the text of the quotes on the page so we could start our own inspirational story!\n",
    "\n",
    "We're going to need to install two packages, `requests`, and `BeautifulSoup`. You can install them by typing:\n",
    "\n",
    "    pip install requests beautifulsoup4\n",
    "    \n",
    "We'll go into more detail about the packages later, but with these packages installed, the code below is a simple script that extracts the quotes from the first page of the site."
   ]
  },
  {
   "cell_type": "code",
   "execution_count": 3,
   "metadata": {},
   "outputs": [
    {
     "data": {
      "text/plain": [
       "['The world as we have created it is a process of our thinking. It cannot be changed without changing our thinking.',\n",
       " 'It is our choices, Harry, that show what we truly are, far more than our abilities.',\n",
       " 'There are only two ways to live your life. One is as though nothing is a miracle. The other is as though everything is a miracle.',\n",
       " 'The person, be it gentleman or lady, who has not pleasure in a good novel, must be intolerably stupid.',\n",
       " \"Imperfection is beauty, madness is genius and it's better to be absolutely ridiculous than absolutely boring.\",\n",
       " 'Try not to become a man of success. Rather become a man of value.',\n",
       " 'It is better to be hated for what you are than to be loved for what you are not.',\n",
       " \"I have not failed. I've just found 10,000 ways that won't work.\",\n",
       " \"A woman is like a tea bag; you never know how strong it is until it's in hot water.\",\n",
       " 'A day without sunshine is like, you know, night.']"
      ]
     },
     "execution_count": 3,
     "metadata": {},
     "output_type": "execute_result"
    }
   ],
   "source": [
    "import requests\n",
    "from bs4 import BeautifulSoup\n",
    "\n",
    "# Download the HTML that makes up the page\n",
    "page = requests.get('http://quotes.toscrape.com/')\n",
    "\n",
    "# Let BeautifulSoup parse the content\n",
    "soup = BeautifulSoup(page.content, 'html.parser')\n",
    "\n",
    "# Find all the quotes. Returns span element <span class=\"text\" itemprop=\"text\">...</span>\n",
    "quotes = soup.find_all('span', class_='text')\n",
    "\n",
    "# Use the .text attribute to get just the text inside the elements. Slicing `[1:-1]` removes the quotation marks.\n",
    "quotes = [quote.text[1:-1] for quote in quotes]\n",
    "\n",
    "# Look at the output\n",
    "quotes"
   ]
  },
  {
   "cell_type": "markdown",
   "metadata": {},
   "source": [
    "As you can see, the quotes match what we see on the site."
   ]
  },
  {
   "cell_type": "markdown",
   "metadata": {},
   "source": [
    "## What is Web Scraping?\n",
    "\n",
    "Web scraping is a method in which you can scrape data from any page on the internet. The process usually consists of three parts:\n",
    "\n",
    "1. Download the page content.\n",
    "2. Extract the data you need.\n",
    "3. Store the data somewhere.\n"
   ]
  }
 ],
 "metadata": {
  "kernelspec": {
   "display_name": "Python 3",
   "language": "python",
   "name": "python3"
  },
  "language_info": {
   "codemirror_mode": {
    "name": "ipython",
    "version": 3
   },
   "file_extension": ".py",
   "mimetype": "text/x-python",
   "name": "python",
   "nbconvert_exporter": "python",
   "pygments_lexer": "ipython3",
   "version": "3.7.5"
  }
 },
 "nbformat": 4,
 "nbformat_minor": 4
}
