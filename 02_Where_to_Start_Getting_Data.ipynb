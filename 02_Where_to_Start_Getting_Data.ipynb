{
 "cells": [
  {
   "cell_type": "markdown",
   "metadata": {},
   "source": [
    "# Getting Data: Where Do I Start?\n",
    "\n",
    "You've searched the web and didn't find a dataset or an API that would easily give you the data you were looking for. Now you need to figure out what you're dealing with."
   ]
  },
  {
   "cell_type": "markdown",
   "metadata": {},
   "source": [
    "## View Source\n",
    "\n",
    "If you go to http://quotes.toscrape.com/, you can right click on the page and select *View Page Source*. This will allow you to see the source code for the webpage. This is the content that the web server returns when you visit the page. The source contains the recipe to build and present the rest of the page.\n",
    "\n",
    "![context menu page source](images/context_menu_view_source.png)\n",
    "\n",
    "![View Source](images/view_source.png)\n",
    "\n",
    "From this we can learn that:\n",
    "\n",
    "* The text of the quote is in a `span` element with `class=\"text\"`.\n",
    "* The author is in a `small` element with `class=\"author\"`.\n",
    "* There is a link that takes us to a list of quotes by the author.\n",
    "* Each quote has a series of tags within a `div` element with `class=\"tags\"`.\n",
    "* Each tag has a link that takes us to a list of similar quotes."
   ]
  },
  {
   "cell_type": "markdown",
   "metadata": {},
   "source": [
    "## Inspect Element\n",
    "\n",
    "A tool that is generally more useful than *View Page Source* is *Inspect Element*. If you right click on a page element and slect *Inspect Element*, a window will pop up that allows you to view the page source as it is rendered. The difference is that *View Page Source* shows you the page **before** any javascript is run and *Inspect Element* shows you the page **after** all javascript is run. \n",
    "\n",
    "*Inspect Element* will also automatically take you to the spot in the code where the element is defined. You can interactively work with the element and the page source to explore more about the page. \n",
    "\n",
    "Since this example page does not require Javascript to render any elements, *View Page Source* and *Inspect Element* show the same code. However, for dynamically loaded pages such as the [infinite scroll version](http://quotes.toscrape.com/scroll), the two methods show different code. *Inspect Element* is often more useful, it is important to understand that the code you see can be different from the code that you'll get when you request the page. But don't worry, you won't be the first person to be [confused by the difference](https://stackoverflow.com/questions/44867425/beautiful-soup-cant-find-tags).\n",
    "\n",
    "![context menu inspect](images/context_menu_inspect.png)\n",
    "\n",
    "![inspect element](images/inspect.png)"
   ]
  },
  {
   "cell_type": "markdown",
   "metadata": {},
   "source": [
    "## Finding Where Data Comes From\n",
    "\n",
    "When you are encoutering dynamically loaded content, your browser's developer's tools can help identify where to get the data. The developer's tools can usually be accessed by pressing <kbd>F12</kbd>. Go to the *Network* tab in the developers tools, clear the log, and ensure that it is set to capture activity. In Chrome, the bright red button indicates that it's ready to capture network traffic. Once you are set, perform an action that would trigger the data you are after (scroll the page, submit a form, etc.). In this example using the [infinite scroll interface](http://quotes.toscrape.com/scroll), you can see two page requests have been filled since the page was loaded. Looking closely, you can see the headers for the requests and preview the data returned by the server.\n",
    "\n",
    "![dynamically loaded content](images/dynamic_calls.png)\n",
    "\n",
    "![dynamically loaded content headers](images/dynamic_calls_headers.png)\n",
    "\n",
    "![dynamically loaded content preview](images/dynamic_calls_preview.png)"
   ]
  }
 ],
 "metadata": {
  "kernelspec": {
   "display_name": "Python 3",
   "language": "python",
   "name": "python3"
  },
  "language_info": {
   "codemirror_mode": {
    "name": "ipython",
    "version": 3
   },
   "file_extension": ".py",
   "mimetype": "text/x-python",
   "name": "python",
   "nbconvert_exporter": "python",
   "pygments_lexer": "ipython3",
   "version": "3.7.5"
  }
 },
 "nbformat": 4,
 "nbformat_minor": 4
}
