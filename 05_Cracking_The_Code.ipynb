{
 "cells": [
  {
   "cell_type": "markdown",
   "metadata": {},
   "source": [
    "# Cracking The Code: How to Read HTML, CSS, and XPATH"
   ]
  },
  {
   "cell_type": "markdown",
   "metadata": {},
   "source": [
    "## Intro to HTML\n",
    "\n",
    "---\n",
    "\n",
    "    <html>\n",
    "    <head>\n",
    "        <title>Web Scraping Tools</title>\n",
    "    </head>\n",
    "    <body>\n",
    "        <h1>Tools</h1>\n",
    "        <p>Web scraping is awesome, you should check out these libraries.</p>\n",
    "        <ul>\n",
    "            <li calss=\"data-getter\">urllib</li>\n",
    "            <li class=\"data-getter\">Requests</li>\n",
    "            <li class=\"data-parser\">lxml</li>\n",
    "            <li class=\"data-parser\">BeautifulSoup</li>\n",
    "            <li class=\"website-tester\">Selenium</li>\n",
    "            <li class=\"scraping-framework\">Scrapy</li>\n",
    "        </ul>\n",
    "    </body>\n",
    "    </html>\n",
    "\n",
    "---\n",
    "\n",
    "<html>\n",
    "<head>\n",
    "    <title>Web Scraping Tools</title>\n",
    "</head>\n",
    "<body>\n",
    "    <h1>Tools</h1>\n",
    "    <p>Web scraping is awesome, you should check out these libraries.</p>\n",
    "    <ul>\n",
    "        <li calss=\"data-getter\">urllib</li>\n",
    "        <li class=\"data-getter\">Requests</li>\n",
    "        <li class=\"data-parser\">lxml</li>\n",
    "        <li class=\"data-parser\">BeautifulSoup</li>\n",
    "        <li class=\"website-tester\">Selenium</li>\n",
    "        <li class=\"scraping-framework\">Scrapy</li>\n",
    "    </ul>\n",
    "</body>\n",
    "</html>\n",
    "\n",
    "---"
   ]
  },
  {
   "cell_type": "markdown",
   "metadata": {},
   "source": [
    "## Intro to CSS Selectors"
   ]
  },
  {
   "cell_type": "markdown",
   "metadata": {},
   "source": [
    "## Intro to XPATH"
   ]
  }
 ],
 "metadata": {
  "kernelspec": {
   "display_name": "Python 3",
   "language": "python",
   "name": "python3"
  },
  "language_info": {
   "codemirror_mode": {
    "name": "ipython",
    "version": 3
   },
   "file_extension": ".py",
   "mimetype": "text/x-python",
   "name": "python",
   "nbconvert_exporter": "python",
   "pygments_lexer": "ipython3",
   "version": "3.7.5"
  }
 },
 "nbformat": 4,
 "nbformat_minor": 4
}
