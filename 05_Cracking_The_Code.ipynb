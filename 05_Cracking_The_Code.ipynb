{
 "cells": [
  {
   "cell_type": "markdown",
   "metadata": {},
   "source": [
    "# Cracking The Code: How to Read HTML, CSS, and XPATH"
   ]
  },
  {
   "cell_type": "code",
   "execution_count": 1,
   "metadata": {},
   "outputs": [],
   "source": [
    "import lxml.html"
   ]
  },
  {
   "cell_type": "markdown",
   "metadata": {},
   "source": [
    "## Intro to HTML"
   ]
  },
  {
   "cell_type": "code",
   "execution_count": 2,
   "metadata": {},
   "outputs": [],
   "source": [
    "sample_html = \"\"\"\n",
    "<html>\n",
    "<head>\n",
    "    <title>Web Scraping Tools</title>\n",
    "</head>\n",
    "<body>\n",
    "    <div id=\"header\">\n",
    "        <h1>Tools</h1>\n",
    "    </div>\n",
    "    <div id=\"content\">\n",
    "        <p>Web scraping is awesome, you should check out these libraries.</p>\n",
    "        <ul>\n",
    "            <li calss=\"data-getter\">urllib</li>\n",
    "            <li class=\"data-getter\">Requests</li>\n",
    "            <li class=\"data-parser\">lxml</li>\n",
    "            <li class=\"data-parser\">BeautifulSoup</li>\n",
    "            <li class=\"website-tester\">Selenium</li>\n",
    "            <li class=\"scraping-framework\">Scrapy</li>\n",
    "        </ul>\n",
    "    </div>\n",
    "</body>\n",
    "</html>\n",
    "\"\"\"\n",
    "html = lxml.html.fromstring(sample_html)"
   ]
  },
  {
   "cell_type": "markdown",
   "metadata": {},
   "source": [
    "Here is what the html in `sample_html` looks like when the browser renders it.\n",
    "\n",
    "---\n",
    "\n",
    "<html>\n",
    "<head>\n",
    "    <title>Web Scraping Tools</title>\n",
    "</head>\n",
    "<body>\n",
    "    <div id=\"header\">\n",
    "        <h1>Tools</h1>\n",
    "    </div>\n",
    "    <div id=\"content\">\n",
    "        <p>Web scraping is awesome, you should check out these libraries.</p>\n",
    "        <ul>\n",
    "            <li calss=\"data-getter\">urllib</li>\n",
    "            <li class=\"data-getter\">Requests</li>\n",
    "            <li class=\"data-parser\">lxml</li>\n",
    "            <li class=\"data-parser\">BeautifulSoup</li>\n",
    "            <li class=\"website-tester\">Selenium</li>\n",
    "            <li class=\"scraping-framework\">Scrapy</li>\n",
    "        </ul>\n",
    "    </div>\n",
    "</body>\n",
    "</html>\n",
    "\n",
    "---"
   ]
  },
  {
   "cell_type": "markdown",
   "metadata": {},
   "source": [
    "## Intro to CSS Selectors\n",
    "\n",
    "For more, look at the [CSS Selectors Level 4](https://www.w3.org/TR/selectors-4/) documentation."
   ]
  },
  {
   "cell_type": "code",
   "execution_count": 3,
   "metadata": {},
   "outputs": [],
   "source": [
    "def css_select(selector):\n",
    "    for elem in html.cssselect(selector):\n",
    "        print(elem.text)"
   ]
  },
  {
   "cell_type": "code",
   "execution_count": 4,
   "metadata": {},
   "outputs": [
    {
     "name": "stdout",
     "output_type": "stream",
     "text": [
      "Tools\n"
     ]
    }
   ],
   "source": [
    "css_select('h1')"
   ]
  },
  {
   "cell_type": "code",
   "execution_count": 5,
   "metadata": {},
   "outputs": [
    {
     "name": "stdout",
     "output_type": "stream",
     "text": [
      "Web scraping is awesome, you should check out these libraries.\n"
     ]
    }
   ],
   "source": [
    "css_select('p')"
   ]
  },
  {
   "cell_type": "code",
   "execution_count": 6,
   "metadata": {},
   "outputs": [
    {
     "name": "stdout",
     "output_type": "stream",
     "text": [
      "urllib\n",
      "Requests\n",
      "lxml\n",
      "BeautifulSoup\n",
      "Selenium\n",
      "Scrapy\n"
     ]
    }
   ],
   "source": [
    "css_select('li')"
   ]
  },
  {
   "cell_type": "code",
   "execution_count": 7,
   "metadata": {},
   "outputs": [
    {
     "name": "stdout",
     "output_type": "stream",
     "text": [
      "lxml\n",
      "BeautifulSoup\n"
     ]
    }
   ],
   "source": [
    "css_select('li.data-parser')"
   ]
  },
  {
   "cell_type": "code",
   "execution_count": 8,
   "metadata": {},
   "outputs": [
    {
     "name": "stdout",
     "output_type": "stream",
     "text": [
      "lxml\n",
      "BeautifulSoup\n"
     ]
    }
   ],
   "source": [
    "css_select('.data-parser')"
   ]
  },
  {
   "cell_type": "code",
   "execution_count": 9,
   "metadata": {},
   "outputs": [
    {
     "name": "stdout",
     "output_type": "stream",
     "text": [
      "None\n"
     ]
    }
   ],
   "source": [
    "print(html.get('content'))"
   ]
  },
  {
   "cell_type": "markdown",
   "metadata": {},
   "source": [
    "## Intro to XPATH\n",
    "\n",
    "For more, look at the [XML Path Language (XPath) 3.1](https://www.w3.org/TR/2017/REC-xpath-31-20170321/) documentation"
   ]
  },
  {
   "cell_type": "code",
   "execution_count": 10,
   "metadata": {},
   "outputs": [],
   "source": [
    "def xpath_select(selector):\n",
    "    for elem in html.xpath(selector + '//text()'):\n",
    "        print(elem)"
   ]
  },
  {
   "cell_type": "code",
   "execution_count": 11,
   "metadata": {},
   "outputs": [
    {
     "name": "stdout",
     "output_type": "stream",
     "text": [
      "Tools\n"
     ]
    }
   ],
   "source": [
    "xpath_select(\"//h1\")"
   ]
  },
  {
   "cell_type": "code",
   "execution_count": 12,
   "metadata": {},
   "outputs": [
    {
     "name": "stdout",
     "output_type": "stream",
     "text": [
      "Web scraping is awesome, you should check out these libraries.\n"
     ]
    }
   ],
   "source": [
    "xpath_select(\"//p\")"
   ]
  },
  {
   "cell_type": "code",
   "execution_count": 13,
   "metadata": {},
   "outputs": [
    {
     "name": "stdout",
     "output_type": "stream",
     "text": [
      "urllib\n",
      "Requests\n",
      "lxml\n",
      "BeautifulSoup\n",
      "Selenium\n",
      "Scrapy\n"
     ]
    }
   ],
   "source": [
    "xpath_select(\"//li\")"
   ]
  },
  {
   "cell_type": "code",
   "execution_count": 14,
   "metadata": {},
   "outputs": [
    {
     "name": "stdout",
     "output_type": "stream",
     "text": [
      "lxml\n",
      "BeautifulSoup\n"
     ]
    }
   ],
   "source": [
    "xpath_select(\"//li[@class='data-parser']\")"
   ]
  },
  {
   "cell_type": "code",
   "execution_count": 15,
   "metadata": {},
   "outputs": [
    {
     "name": "stdout",
     "output_type": "stream",
     "text": [
      "lxml\n",
      "BeautifulSoup\n"
     ]
    }
   ],
   "source": [
    "xpath_select(\"//*[@class='data-parser']\")"
   ]
  },
  {
   "cell_type": "code",
   "execution_count": 16,
   "metadata": {},
   "outputs": [
    {
     "name": "stdout",
     "output_type": "stream",
     "text": [
      "\n",
      "        \n",
      "Tools\n",
      "\n",
      "    \n"
     ]
    }
   ],
   "source": [
    "xpath_select(\"//*[@id='header']\")"
   ]
  },
  {
   "cell_type": "code",
   "execution_count": 17,
   "metadata": {},
   "outputs": [
    {
     "name": "stdout",
     "output_type": "stream",
     "text": [
      "\n",
      "        \n",
      "Web scraping is awesome, you should check out these libraries.\n",
      "\n",
      "        \n",
      "\n",
      "            \n",
      "urllib\n",
      "\n",
      "            \n",
      "Requests\n",
      "\n",
      "            \n",
      "lxml\n",
      "\n",
      "            \n",
      "BeautifulSoup\n",
      "\n",
      "            \n",
      "Selenium\n",
      "\n",
      "            \n",
      "Scrapy\n",
      "\n",
      "        \n",
      "\n",
      "    \n"
     ]
    }
   ],
   "source": [
    "xpath_select(\"//*[@id='content']\")"
   ]
  }
 ],
 "metadata": {
  "kernelspec": {
   "display_name": "Python 3",
   "language": "python",
   "name": "python3"
  },
  "language_info": {
   "codemirror_mode": {
    "name": "ipython",
    "version": 3
   },
   "file_extension": ".py",
   "mimetype": "text/x-python",
   "name": "python",
   "nbconvert_exporter": "python",
   "pygments_lexer": "ipython3",
   "version": "3.7.5"
  }
 },
 "nbformat": 4,
 "nbformat_minor": 4
}
