{
 "cells": [
  {
   "cell_type": "markdown",
   "metadata": {},
   "source": [
    "## How to get all of PyCons sponsors and their sponsor level\n",
    "\n",
    "PyCon has a lot of interesting sponsors. <br>\n",
    "The goal is to get their sponsor info into a pandas dataframe with the following columns: sponsor level, url, and description"
   ]
  },
  {
   "cell_type": "code",
   "execution_count": null,
   "metadata": {},
   "outputs": [],
   "source": [
    "# import packages\n",
    "from bs4 import BeautifulSoup\n",
    "import pandas as pd\n",
    "import requests"
   ]
  },
  {
   "cell_type": "code",
   "execution_count": null,
   "metadata": {},
   "outputs": [],
   "source": [
    "# create the soup object \n",
    "url = 'https://us.pycon.org/2020/sponsors/'\n",
    "r  = requests.get(url)\n",
    "data = r.text\n",
    "soup = BeautifulSoup(data)"
   ]
  },
  {
   "cell_type": "code",
   "execution_count": null,
   "metadata": {},
   "outputs": [],
   "source": [
    "# create the dataframe\n",
    "df = pd.DataFrame(columns=['sponsor_level', 'url', 'description'])\n",
    "current_row = 0\n",
    "\n",
    "# begin to iterate through the soup object\n",
    "# we know that all of the sponsor level tags contain all of the info we care about in their children\n",
    "for tag in soup.find_all('div'):\n",
    "    if 'class' in tag.attrs and 'sponsor-level' in tag.attrs['class']:\n",
    "        # iterate through the children of this sponsor level\n",
    "        sponsor_level_h2 = tag.h2\n",
    "        if sponsor_level_h2 is not None:\n",
    "            # save the sponsor level\n",
    "            sponsor_level = sponsor_level_h2.get_text()\n",
    "            \n",
    "            # iterate through the sponsor level div\n",
    "            for subtag in tag.find_all():\n",
    "                if 'class' in subtag.attrs and 'sponsor' in subtag.attrs['class']:\n",
    "                    # get the url\n",
    "                    url_tag = subtag.a\n",
    "                    url = url_tag.attrs['href']\n",
    "                    #print(url)\n",
    "                    \n",
    "                    # get the description\n",
    "                    description = ''\n",
    "                    for p_tag in subtag.find_all('p'):\n",
    "                        description += p_tag.get_text()\n",
    "                        \n",
    "                    # add the row and iterate the row number\n",
    "                    df.loc[current_row] = [sponsor_level,url,description]\n",
    "                    current_row += 1"
   ]
  }
 ],
 "metadata": {
  "kernelspec": {
   "display_name": "Python 3",
   "language": "python",
   "name": "python3"
  },
  "language_info": {
   "codemirror_mode": {
    "name": "ipython",
    "version": 3
   },
   "file_extension": ".py",
   "mimetype": "text/x-python",
   "name": "python",
   "nbconvert_exporter": "python",
   "pygments_lexer": "ipython3",
   "version": "3.7.3"
  }
 },
 "nbformat": 4,
 "nbformat_minor": 2
}
