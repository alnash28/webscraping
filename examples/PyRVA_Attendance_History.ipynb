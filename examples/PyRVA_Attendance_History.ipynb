{
 "cells": [
  {
   "cell_type": "markdown",
   "metadata": {},
   "source": [
    "# PyRVA Attendance History\n",
    "\n",
    "The RSVPs for this presentation was getting pretty high. I started to wonder how it ranked compared to other presentations.\n",
    "\n",
    "This workbook serves as a demonstration of how APIs can work and save you a lot of mental processing time. In particular, we will look at the Meetup API and look at the attendance history since the start of PyRVA.\n",
    "\n",
    "This module uses a few more libraries for playing with data and plotting."
   ]
  },
  {
   "cell_type": "code",
   "execution_count": 1,
   "metadata": {},
   "outputs": [],
   "source": [
    "import urllib3\n",
    "import requests\n",
    "import pandas as pd\n",
    "import matplotlib.pyplot as plt\n",
    "urllib3.disable_warnings(urllib3.exceptions.InsecureRequestWarning)\n",
    "%matplotlib inline"
   ]
  },
  {
   "cell_type": "markdown",
   "metadata": {},
   "source": [
    "[Meetup](https://www.meetup.com/) has a well documented [API](https://www.meetup.com/meetup_api/). Since we want to get the events relevant to PyRVA, we want to use the [`/:urlname/events`](https://www.meetup.com/meetup_api/docs/:urlname/events/#list) endpoint.\n",
    "\n",
    "Since the API returns JSON, we can get the data from the `.json()` method. You can use the links below and view it in the browser yourself."
   ]
  },
  {
   "cell_type": "code",
   "execution_count": 2,
   "metadata": {},
   "outputs": [
    {
     "name": "stdout",
     "output_type": "stream",
     "text": [
      "https://api.meetup.com/PyRVAUserGroup/events?status=past\n",
      "https://api.meetup.com/PyRVAUserGroup/events\n"
     ]
    }
   ],
   "source": [
    "url = 'https://api.meetup.com/PyRVAUserGroup/events'\n",
    "\n",
    "response = requests.get(url, params={'status': 'past'}, verify=False)\n",
    "print(response.request.url)\n",
    "events = response.json()\n",
    "\n",
    "response = requests.get(url, verify=False)\n",
    "print(response.request.url)\n",
    "events.extend(response.json())"
   ]
  },
  {
   "cell_type": "markdown",
   "metadata": {},
   "source": [
    "Now, we don't need all the data to answer the question, so it is good to limit are dataset to what we need. In this case, we want three fields:\n",
    "\n",
    "* `name`: The title of the event\n",
    "* `local_date`: The date of the event. (Since we're not near the dateline, this is sufficient)\n",
    "* `yes_rsvp_count`: How many people RSVPd to say they were going to attend. (Note, this does not indicate actual attendance)"
   ]
  },
  {
   "cell_type": "code",
   "execution_count": 3,
   "metadata": {},
   "outputs": [],
   "source": [
    "attrs = ['name', 'local_date', 'yes_rsvp_count']\n",
    "data = [\n",
    "    {attr: event[attr] for attr in attrs}\n",
    "    for event in events\n",
    "]"
   ]
  },
  {
   "cell_type": "markdown",
   "metadata": {},
   "source": [
    "Now, we can create a [pandas](https://pandas.pydata.org/) [DataFrame](https://pandas.pydata.org/pandas-docs/stable/reference/api/pandas.DataFrame.html) from the data for easy processing."
   ]
  },
  {
   "cell_type": "code",
   "execution_count": 4,
   "metadata": {},
   "outputs": [
    {
     "name": "stdout",
     "output_type": "stream",
     "text": [
      "There are 80 events listed on PyRVA's page.\n",
      "The webscraping presentation is event #56\n"
     ]
    }
   ],
   "source": [
    "df = pd.DataFrame(data)\n",
    "df['local_date'] = pd.to_datetime(df.local_date)\n",
    "df.set_index('local_date', inplace=True)\n",
    "print(f\"There are {df.shape[0]} events listed on PyRVA's page.\")\n",
    "\n",
    "presentation_date = '2020-02-12'\n",
    "print(f\"The webscraping presentation is event #{df.loc[:presentation_date].shape[0]}\")"
   ]
  },
  {
   "cell_type": "markdown",
   "metadata": {},
   "source": [
    "One useful bit of insight would be to see what the most popular topics were (assuming RSVPs are a good indicator of popularity)"
   ]
  },
  {
   "cell_type": "code",
   "execution_count": 5,
   "metadata": {},
   "outputs": [
    {
     "data": {
      "text/html": [
       "<div>\n",
       "<style scoped>\n",
       "    .dataframe tbody tr th:only-of-type {\n",
       "        vertical-align: middle;\n",
       "    }\n",
       "\n",
       "    .dataframe tbody tr th {\n",
       "        vertical-align: top;\n",
       "    }\n",
       "\n",
       "    .dataframe thead th {\n",
       "        text-align: right;\n",
       "    }\n",
       "</style>\n",
       "<table border=\"1\" class=\"dataframe\">\n",
       "  <thead>\n",
       "    <tr style=\"text-align: right;\">\n",
       "      <th></th>\n",
       "      <th>name</th>\n",
       "      <th>yes_rsvp_count</th>\n",
       "    </tr>\n",
       "    <tr>\n",
       "      <th>local_date</th>\n",
       "      <th></th>\n",
       "      <th></th>\n",
       "    </tr>\n",
       "  </thead>\n",
       "  <tbody>\n",
       "    <tr>\n",
       "      <th>2018-10-10</th>\n",
       "      <td>Python and Pandas for Data Quality (and some s...</td>\n",
       "      <td>88</td>\n",
       "    </tr>\n",
       "    <tr>\n",
       "      <th>2019-03-13</th>\n",
       "      <td>Starting your python project out on the right ...</td>\n",
       "      <td>72</td>\n",
       "    </tr>\n",
       "    <tr>\n",
       "      <th>2018-08-08</th>\n",
       "      <td>Getting Started with Docker and deploying Pyth...</td>\n",
       "      <td>71</td>\n",
       "    </tr>\n",
       "    <tr>\n",
       "      <th>2019-04-10</th>\n",
       "      <td>“Python for Data Engineering: Managing Relatio...</td>\n",
       "      <td>68</td>\n",
       "    </tr>\n",
       "    <tr>\n",
       "      <th>2018-07-11</th>\n",
       "      <td>Serverless programming with Python</td>\n",
       "      <td>66</td>\n",
       "    </tr>\n",
       "    <tr>\n",
       "      <th>2020-02-12</th>\n",
       "      <td>Web Scraping in Python</td>\n",
       "      <td>64</td>\n",
       "    </tr>\n",
       "    <tr>\n",
       "      <th>2019-02-13</th>\n",
       "      <td>Python and Pandas for Data Quality</td>\n",
       "      <td>63</td>\n",
       "    </tr>\n",
       "    <tr>\n",
       "      <th>2018-02-07</th>\n",
       "      <td>AWS Lambda: a Pythonic approach - By Wray Mills</td>\n",
       "      <td>61</td>\n",
       "    </tr>\n",
       "    <tr>\n",
       "      <th>2019-06-12</th>\n",
       "      <td>REPL to REPLICABLE with Zac Bir</td>\n",
       "      <td>60</td>\n",
       "    </tr>\n",
       "    <tr>\n",
       "      <th>2017-05-10</th>\n",
       "      <td>Data Analytics: A Python Perspective by Paul J...</td>\n",
       "      <td>54</td>\n",
       "    </tr>\n",
       "  </tbody>\n",
       "</table>\n",
       "</div>"
      ],
      "text/plain": [
       "                                                         name  yes_rsvp_count\n",
       "local_date                                                                   \n",
       "2018-10-10  Python and Pandas for Data Quality (and some s...              88\n",
       "2019-03-13  Starting your python project out on the right ...              72\n",
       "2018-08-08  Getting Started with Docker and deploying Pyth...              71\n",
       "2019-04-10  “Python for Data Engineering: Managing Relatio...              68\n",
       "2018-07-11                 Serverless programming with Python              66\n",
       "2020-02-12                             Web Scraping in Python              64\n",
       "2019-02-13                 Python and Pandas for Data Quality              63\n",
       "2018-02-07    AWS Lambda: a Pythonic approach - By Wray Mills              61\n",
       "2019-06-12                    REPL to REPLICABLE with Zac Bir              60\n",
       "2017-05-10  Data Analytics: A Python Perspective by Paul J...              54"
      ]
     },
     "execution_count": 5,
     "metadata": {},
     "output_type": "execute_result"
    }
   ],
   "source": [
    "df.sort_values('yes_rsvp_count', ascending=False).head(10)"
   ]
  },
  {
   "cell_type": "markdown",
   "metadata": {},
   "source": [
    "Lastly, it would be interesting to see a graph of the RSVPs since the beginning of the group. Obviously dates in the future aren't valid since people can still RSVP to them (hint hint)"
   ]
  },
  {
   "cell_type": "code",
   "execution_count": 6,
   "metadata": {},
   "outputs": [
    {
     "data": {
      "text/plain": [
       "64"
      ]
     },
     "execution_count": 6,
     "metadata": {},
     "output_type": "execute_result"
    },
    {
     "data": {
      "image/png": "[encoded data removed]",
      "text/plain": [
       "<Figure size 1080x432 with 1 Axes>"
      ]
     },
     "metadata": {
      "needs_background": "light"
     },
     "output_type": "display_data"
    }
   ],
   "source": [
    "presentation = df.loc[presentation_date]\n",
    "\n",
    "fig, ax = plt.subplots(figsize=(15, 6))\n",
    "df['yes_rsvp_count'].plot(ax=ax)\n",
    "df[df.index == presentation_date].reset_index().plot.scatter(x='local_date', y='yes_rsvp_count', ax=ax, c='r', s=30)\n",
    "\n",
    "ax.annotate(\n",
    "    s=presentation['name'],\n",
    "    xy=(presentation_date, presentation['yes_rsvp_count']),\n",
    "    xytext=(presentation_date, presentation['yes_rsvp_count'] + 5),\n",
    ")\n",
    "\n",
    "ax.set_xlabel(\"Meeting Date\")\n",
    "ax.set_ylabel(\"Meeting RSVP\")\n",
    "presentation['yes_rsvp_count']"
   ]
  }
 ],
 "metadata": {
  "kernelspec": {
   "display_name": "Python 3",
   "language": "python",
   "name": "python3"
  },
  "language_info": {
   "codemirror_mode": {
    "name": "ipython",
    "version": 3
   },
   "file_extension": ".py",
   "mimetype": "text/x-python",
   "name": "python",
   "nbconvert_exporter": "python",
   "pygments_lexer": "ipython3",
   "version": "3.7.5"
  }
 },
 "nbformat": 4,
 "nbformat_minor": 4
}
