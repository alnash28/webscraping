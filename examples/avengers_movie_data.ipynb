{
 "cells": [
  {
   "cell_type": "markdown",
   "metadata": {},
   "source": [
    "## EDA of Avengers box office data\n",
    "\n",
    "In this notebook, I'm going to scrape box office data about all four of Marvel's Avengers movies from [boxofficemojo.com](boxofficemojo.com)"
   ]
  },
  {
   "cell_type": "code",
   "execution_count": 13,
   "metadata": {},
   "outputs": [],
   "source": [
    "import requests\n",
    "import pandas as pd\n",
    "import matplotlib.pyplot as plt"
   ]
  },
  {
   "cell_type": "code",
   "execution_count": 43,
   "metadata": {},
   "outputs": [
    {
     "name": "stdout",
     "output_type": "stream",
     "text": [
      "          Date       DOW  Rank        Daily   %± YD %± LW  Theaters      Avg  \\\n",
      "0  May 4, 2012    Friday     1  $80,813,985       -     -      4349  $18,582   \n",
      "1  May 5, 2012  Saturday     1  $69,557,990  -13.9%     -      4349  $15,994   \n",
      "2  May 6, 2012    Sunday     1  $57,066,733    -18%     -      4349  $13,121   \n",
      "3  May 7, 2012    Monday     1  $18,898,999  -66.9%     -      4349   $4,345   \n",
      "4  May 8, 2012   Tuesday     1  $17,677,190   -6.5%     -      4349   $4,064   \n",
      "\n",
      "        To Date  Day  Estimated  \n",
      "0   $80,813,985    1      False  \n",
      "1  $150,371,975    2      False  \n",
      "2  $207,438,708    3      False  \n",
      "3  $226,337,707    4      False  \n",
      "4  $244,014,897    5      False  \n",
      "-----------\n",
      "            Date        DOW  Rank     Daily   %± YD   %± LW  Theaters   Avg  \\\n",
      "93   Sep 9, 2012     Sunday    20  $163,107  -59.8%  -80.6%      1209  $134   \n",
      "94  Sep 10, 2012     Monday    18   $46,138  -71.7%  -91.8%      1209   $38   \n",
      "95  Sep 11, 2012    Tuesday    17   $56,594  +22.7%  -53.5%      1209   $46   \n",
      "96  Sep 12, 2012  Wednesday    17   $51,689   -8.7%  -40.7%      1209   $42   \n",
      "97  Sep 13, 2012   Thursday    17   $54,171   +4.8%  -43.4%      1209   $44   \n",
      "\n",
      "         To Date  Day  Estimated  \n",
      "93  $621,414,627  129      False  \n",
      "94  $621,460,765  130      False  \n",
      "95  $621,517,359  131      False  \n",
      "96  $621,569,048  132      False  \n",
      "97  $621,623,219  133      False  \n"
     ]
    }
   ],
   "source": [
    "url = \"https://www.boxofficemojo.com/release/rl709199361/?ref_=bo_tt_gr_1\"\n",
    "\n",
    "av1 = pd.read_html(requests.get(url).content)[0]\n",
    "print(av1.head())\n",
    "print('-----------')\n",
    "print(av1.tail())"
   ]
  },
  {
   "cell_type": "markdown",
   "metadata": {},
   "source": [
    "Terrific, the code worked and I have a gorgeous dataframe containing all of the info I need. Let's get the others"
   ]
  },
  {
   "cell_type": "code",
   "execution_count": 12,
   "metadata": {},
   "outputs": [],
   "source": [
    "# avengers 2\n",
    "url = \"https://www.boxofficemojo.com/release/rl675644929/?ref_=bo_tt_gr_1\"\n",
    "av2 = pd.read_html(requests.get(url).content)[0]\n",
    "\n",
    "# avengers 3\n",
    "url = \"https://www.boxofficemojo.com/release/rl3043198465/?ref_=bo_tt_gr_1\"\n",
    "av3 = pd.read_html(requests.get(url).content)[0]\n",
    "\n",
    "# avengers 4\n",
    "url = \"https://www.boxofficemojo.com/release/rl3059975681/?ref_=bo_rl_tab#tabs\"\n",
    "av4 = pd.read_html(requests.get(url).content)[0]"
   ]
  },
  {
   "cell_type": "code",
   "execution_count": 45,
   "metadata": {},
   "outputs": [
    {
     "name": "stdout",
     "output_type": "stream",
     "text": [
      "<class 'pandas.core.frame.DataFrame'>\n",
      "RangeIndex: 98 entries, 0 to 97\n",
      "Data columns (total 11 columns):\n",
      "Date         98 non-null object\n",
      "DOW          98 non-null object\n",
      "Rank         98 non-null int64\n",
      "Daily        98 non-null object\n",
      "%± YD        98 non-null object\n",
      "%± LW        98 non-null object\n",
      "Theaters     98 non-null int64\n",
      "Avg          98 non-null object\n",
      "To Date      98 non-null object\n",
      "Day          98 non-null int64\n",
      "Estimated    98 non-null bool\n",
      "dtypes: bool(1), int64(3), object(7)\n",
      "memory usage: 7.8+ KB\n",
      "None\n"
     ]
    }
   ],
   "source": [
    "print(av1.info())"
   ]
  },
  {
   "cell_type": "markdown",
   "metadata": {},
   "source": [
    "We need to convert the 'To Date' column to float"
   ]
  },
  {
   "cell_type": "code",
   "execution_count": 47,
   "metadata": {},
   "outputs": [
    {
     "name": "stdout",
     "output_type": "stream",
     "text": [
      "<class 'pandas.core.frame.DataFrame'>\n",
      "RangeIndex: 98 entries, 0 to 97\n",
      "Data columns (total 11 columns):\n",
      "Date         98 non-null object\n",
      "DOW          98 non-null object\n",
      "Rank         98 non-null int64\n",
      "Daily        98 non-null object\n",
      "%± YD        98 non-null object\n",
      "%± LW        98 non-null object\n",
      "Theaters     98 non-null int64\n",
      "Avg          98 non-null object\n",
      "To Date      98 non-null float64\n",
      "Day          98 non-null int64\n",
      "Estimated    98 non-null bool\n",
      "dtypes: bool(1), float64(1), int64(3), object(6)\n",
      "memory usage: 7.8+ KB\n"
     ]
    }
   ],
   "source": [
    "av1['To Date'] = av1[av1.columns[8]].replace('[\\$,]', '', regex=True).astype(float)\n",
    "\n",
    "av1.info()"
   ]
  },
  {
   "cell_type": "markdown",
   "metadata": {},
   "source": [
    "Great, now to fix the others"
   ]
  },
  {
   "cell_type": "code",
   "execution_count": 48,
   "metadata": {},
   "outputs": [],
   "source": [
    "av2['To Date'] = av2[av2.columns[8]].replace('[\\$,]', '', regex=True).astype(float)\n",
    "av3['To Date'] = av3[av3.columns[8]].replace('[\\$,]', '', regex=True).astype(float)\n",
    "av4['To Date'] = av4[av4.columns[8]].replace('[\\$,]', '', regex=True).astype(float)"
   ]
  },
  {
   "cell_type": "markdown",
   "metadata": {},
   "source": [
    "Let's plot some of this out"
   ]
  },
  {
   "cell_type": "code",
   "execution_count": 49,
   "metadata": {},
   "outputs": [
    {
     "data": {
      "image/png": "[encoded data removed]",
      "text/plain": [
       "<Figure size 432x288 with 1 Axes>"
      ]
     },
     "metadata": {
      "needs_background": "light"
     },
     "output_type": "display_data"
    }
   ],
   "source": [
    "fig, ax = plt.subplots()\n",
    "\n",
    "ax.plot(av1['Day'], av1['To Date'],label='Avengers 1')\n",
    "ax.plot(av2['Day'], av2['To Date'],label='Avengers 2')\n",
    "ax.plot(av3['Day'], av3['To Date'],label='Avengers 3')\n",
    "ax.plot(av4['Day'], av4['To Date'],label='Avengers 4')\n",
    "ax.legend()\n",
    "\n",
    "\n",
    "\n",
    "fig.suptitle('Avenger\\'s Box Office Data')\n",
    "plt.show()"
   ]
  }
 ],
 "metadata": {
  "kernelspec": {
   "display_name": "Python 3",
   "language": "python",
   "name": "python3"
  },
  "language_info": {
   "codemirror_mode": {
    "name": "ipython",
    "version": 3
   },
   "file_extension": ".py",
   "mimetype": "text/x-python",
   "name": "python",
   "nbconvert_exporter": "python",
   "pygments_lexer": "ipython3",
   "version": "3.7.3"
  }
 },
 "nbformat": 4,
 "nbformat_minor": 2
}
